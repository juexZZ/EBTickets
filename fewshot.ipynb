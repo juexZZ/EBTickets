{
 "cells": [
  {
   "cell_type": "code",
   "execution_count": 1,
   "metadata": {},
   "outputs": [],
   "source": [
    "import torch\n",
    "import torch.nn as nn\n",
    "import torch.nn.functional as F\n",
    "from torch.autograd import Variable\n",
    "from torch.optim.lr_scheduler import StepLR\n",
    "import numpy as np\n",
    "import speech_task_generator as tg\n",
    "import os\n",
    "import math\n",
    "import argparse\n",
    "import random"
   ]
  },
  {
   "cell_type": "code",
   "execution_count": 2,
   "metadata": {},
   "outputs": [],
   "source": [
    "DATA_DIR = \"../vec/\"\n",
    "TRAIN_NUM = 30\n",
    "FEATURE_DIM = 512\n",
    "RELATION_DIM = 8\n",
    "CLASS_NUM = 5\n",
    "SAMPLE_NUM_PER_CLASS = 5\n",
    "BATCH_NUM_PER_CLASS = 15\n",
    "EPISODE = 1000000\n",
    "TEST_EPISODE = 1000\n",
    "LEARNING_RATE = 0.0001"
   ]
  },
  {
   "cell_type": "code",
   "execution_count": 19,
   "metadata": {},
   "outputs": [],
   "source": [
    "class RelationNetwork(nn.Module):\n",
    "    \"\"\"Relation Network\"\"\"\n",
    "    def __init__(self, input_size, hidden_size):\n",
    "        super(RelationNetwork, self).__init__()\n",
    "        self.input_size = input_size # vector feature dim\n",
    "        self.fc1 = nn.Linear(input_size*2, hidden_size)\n",
    "        self.fc2 = nn.Linear(hidden_size, 1)\n",
    "\n",
    "    def forward(self, sample, query, num_class):\n",
    "        \"\"\"\n",
    "        sample: (sample_per_class x num_class) x vec_dim\n",
    "        query: (batch_per_class x num_class) x vec_dim\n",
    "        \"\"\"\n",
    "        sample = sample.view(num_class, -1, self.input_size)\n",
    "        sample_num_per_class = sample.size(1)\n",
    "        sample = torch.sum(sample, 1).squeeze(1) # sum within each class -> num_class x vec_dim\n",
    "\n",
    "        query = query.view(num_class, -1, self.input_size)\n",
    "        batch_num_per_class = query.size(1)\n",
    "        # align\n",
    "        sample_ext = sample.unsqueeze(0).repeat(batch_num_per_class*num_class, 1, 1) # (batch_per_class x num_class) x num_class x vec_dim\n",
    "        query = query.view(-1, self.input_size)\n",
    "        query_ext = query.unsqueeze(0).repeat(num_class, 1, 1) # num_classes x (batch_per_class x num_class) x vec_dim\n",
    "        query_ext = torch.transpose(query_ext, 0, 1) # (batch_per_class x num_class) x num_class x vec_dim\n",
    "        # concat\n",
    "        relation_pairs = torch.cat((sample_ext, query_ext), 2).view(-1, self.input_size*2)\n",
    "        # calculate relations\n",
    "        out = F.relu(self.fc1(relation_pairs))\n",
    "        out = torch.sigmoid(self.fc2(out))\n",
    "        out = out.view(-1, num_class)\n",
    "        return out\n",
    "\n",
    "def weights_init(m):\n",
    "    classname = m.__class__.__name__\n",
    "    if classname.find('Conv') != -1:\n",
    "        n = m.kernel_size[0] * m.kernel_size[1] * m.out_channels\n",
    "        m.weight.data.normal_(0, math.sqrt(2. / n))\n",
    "        if m.bias is not None:\n",
    "            m.bias.data.zero_()\n",
    "    elif classname.find('BatchNorm') != -1:\n",
    "        m.weight.data.fill_(1)\n",
    "        m.bias.data.zero_()\n",
    "    elif classname.find('Linear') != -1:\n",
    "        n = m.weight.size(1)\n",
    "        m.weight.data.normal_(0, 0.01)\n",
    "        m.bias.data = torch.ones(m.bias.data.size())"
   ]
  },
  {
   "cell_type": "code",
   "execution_count": 4,
   "metadata": {},
   "outputs": [],
   "source": [
    "metatrain_speech_files, metatest_speech_files = tg.voxceleb_speech_folder(data_folder=DATA_DIR, train_num=TRAIN_NUM)"
   ]
  },
  {
   "cell_type": "code",
   "execution_count": 21,
   "metadata": {},
   "outputs": [
    {
     "data": {
      "text/plain": [
       "RelationNetwork(\n",
       "  (fc1): Linear(in_features=1024, out_features=8, bias=True)\n",
       "  (fc2): Linear(in_features=8, out_features=1, bias=True)\n",
       ")"
      ]
     },
     "execution_count": 21,
     "metadata": {},
     "output_type": "execute_result"
    }
   ],
   "source": [
    "relation_network = RelationNetwork(FEATURE_DIM,RELATION_DIM)\n",
    "relation_network.apply(weights_init)"
   ]
  },
  {
   "cell_type": "code",
   "execution_count": 22,
   "metadata": {},
   "outputs": [],
   "source": [
    "relation_network_optim = torch.optim.Adam(relation_network.parameters(),lr=LEARNING_RATE)\n",
    "relation_network_scheduler = StepLR(relation_network_optim,step_size=100000,gamma=0.5)"
   ]
  },
  {
   "cell_type": "code",
   "execution_count": 7,
   "metadata": {},
   "outputs": [
    {
     "name": "stdout",
     "output_type": "stream",
     "text": [
      "{'../vec/id10305.txt': 0, '../vec/id10309.txt': 1, '../vec/id10302.txt': 2, '../vec/id10287.txt': 3, '../vec/id10293.txt': 4}\n",
      "../vec/id10305.txt 0\n",
      "[0, 0, 0, 0, 0]\n",
      "[0, 0, 0, 0, 0, 0, 0, 0, 0, 0, 0, 0, 0, 0, 0]\n",
      "../vec/id10309.txt 1\n",
      "[0, 0, 0, 0, 0, 1, 1, 1, 1, 1]\n",
      "[0, 0, 0, 0, 0, 0, 0, 0, 0, 0, 0, 0, 0, 0, 0, 1, 1, 1, 1, 1, 1, 1, 1, 1, 1, 1, 1, 1, 1, 1]\n",
      "../vec/id10302.txt 2\n",
      "[0, 0, 0, 0, 0, 1, 1, 1, 1, 1, 2, 2, 2, 2, 2]\n",
      "[0, 0, 0, 0, 0, 0, 0, 0, 0, 0, 0, 0, 0, 0, 0, 1, 1, 1, 1, 1, 1, 1, 1, 1, 1, 1, 1, 1, 1, 1, 2, 2, 2, 2, 2, 2, 2, 2, 2, 2, 2, 2, 2, 2, 2]\n",
      "../vec/id10287.txt 3\n",
      "[0, 0, 0, 0, 0, 1, 1, 1, 1, 1, 2, 2, 2, 2, 2, 3, 3, 3, 3, 3]\n",
      "[0, 0, 0, 0, 0, 0, 0, 0, 0, 0, 0, 0, 0, 0, 0, 1, 1, 1, 1, 1, 1, 1, 1, 1, 1, 1, 1, 1, 1, 1, 2, 2, 2, 2, 2, 2, 2, 2, 2, 2, 2, 2, 2, 2, 2, 3, 3, 3, 3, 3, 3, 3, 3, 3, 3, 3, 3, 3, 3, 3]\n",
      "../vec/id10293.txt 4\n",
      "[0, 0, 0, 0, 0, 1, 1, 1, 1, 1, 2, 2, 2, 2, 2, 3, 3, 3, 3, 3, 4, 4, 4, 4, 4]\n",
      "[0, 0, 0, 0, 0, 0, 0, 0, 0, 0, 0, 0, 0, 0, 0, 1, 1, 1, 1, 1, 1, 1, 1, 1, 1, 1, 1, 1, 1, 1, 2, 2, 2, 2, 2, 2, 2, 2, 2, 2, 2, 2, 2, 2, 2, 3, 3, 3, 3, 3, 3, 3, 3, 3, 3, 3, 3, 3, 3, 3, 4, 4, 4, 4, 4, 4, 4, 4, 4, 4, 4, 4, 4, 4, 4]\n",
      "25\n",
      "25\n",
      "75\n",
      "75\n"
     ]
    }
   ],
   "source": [
    "task = tg.VoxFewshotTask(metatrain_speech_files,CLASS_NUM,SAMPLE_NUM_PER_CLASS,BATCH_NUM_PER_CLASS)\n",
    "sample_dataloader = tg.get_data_loader(task,num_per_class=SAMPLE_NUM_PER_CLASS,split=\"train\",shuffle=False)\n",
    "batch_dataloader = tg.get_data_loader(task,num_per_class=BATCH_NUM_PER_CLASS,split=\"test\",shuffle=True)"
   ]
  },
  {
   "cell_type": "code",
   "execution_count": 9,
   "metadata": {},
   "outputs": [],
   "source": [
    "samples,sample_labels = sample_dataloader.__iter__().next()\n",
    "batches,batch_labels = batch_dataloader.__iter__().next()"
   ]
  },
  {
   "cell_type": "code",
   "execution_count": 10,
   "metadata": {},
   "outputs": [
    {
     "data": {
      "text/plain": [
       "torch.Size([25, 512])"
      ]
     },
     "execution_count": 10,
     "metadata": {},
     "output_type": "execute_result"
    }
   ],
   "source": [
    "samples.size()"
   ]
  },
  {
   "cell_type": "code",
   "execution_count": 13,
   "metadata": {},
   "outputs": [
    {
     "data": {
      "text/plain": [
       "tensor([[ 1.7426, -1.9934,  1.3741,  ...,  0.5516, -2.0889,  2.4397],\n",
       "        [ 0.9145,  0.1659,  0.9504,  ..., -1.8690, -2.7939,  1.6301],\n",
       "        [-2.8732,  2.7469,  3.8594,  ...,  3.5852,  2.7004,  6.5310],\n",
       "        ...,\n",
       "        [ 1.5173,  1.6825,  0.3520,  ...,  1.3454, -1.7398,  3.7136],\n",
       "        [-4.3484,  3.3825,  3.7333,  ...,  2.6806, -4.7237,  0.6005],\n",
       "        [-1.4059,  2.5253,  1.5449,  ...,  6.7129, -1.8187,  0.5236]])"
      ]
     },
     "execution_count": 13,
     "metadata": {},
     "output_type": "execute_result"
    }
   ],
   "source": [
    "samples"
   ]
  },
  {
   "cell_type": "code",
   "execution_count": 11,
   "metadata": {},
   "outputs": [
    {
     "data": {
      "text/plain": [
       "torch.Size([75, 512])"
      ]
     },
     "execution_count": 11,
     "metadata": {},
     "output_type": "execute_result"
    }
   ],
   "source": [
    "batches.size()"
   ]
  },
  {
   "cell_type": "code",
   "execution_count": 12,
   "metadata": {},
   "outputs": [
    {
     "data": {
      "text/plain": [
       "torch.Size([25])"
      ]
     },
     "execution_count": 12,
     "metadata": {},
     "output_type": "execute_result"
    }
   ],
   "source": [
    "sample_labels.size()"
   ]
  },
  {
   "cell_type": "code",
   "execution_count": 23,
   "metadata": {},
   "outputs": [],
   "source": [
    "relations = relation_network(sample=samples, query=batches, num_class=CLASS_NUM)"
   ]
  },
  {
   "cell_type": "code",
   "execution_count": 25,
   "metadata": {},
   "outputs": [
    {
     "data": {
      "text/plain": [
       "torch.Size([75, 5])"
      ]
     },
     "execution_count": 25,
     "metadata": {},
     "output_type": "execute_result"
    }
   ],
   "source": [
    "relations.size()"
   ]
  },
  {
   "cell_type": "code",
   "execution_count": 26,
   "metadata": {},
   "outputs": [],
   "source": [
    "mse = nn.MSELoss()\n",
    "one_hot_labels = torch.zeros(BATCH_NUM_PER_CLASS*CLASS_NUM, CLASS_NUM).scatter_(1, batch_labels.view(-1,1), 1)\n",
    "loss = mse(relations,one_hot_labels)"
   ]
  },
  {
   "cell_type": "code",
   "execution_count": null,
   "metadata": {},
   "outputs": [],
   "source": []
  }
 ],
 "metadata": {
  "kernelspec": {
   "display_name": "Python 3",
   "language": "python",
   "name": "python3"
  },
  "language_info": {
   "codemirror_mode": {
    "name": "ipython",
    "version": 3
   },
   "file_extension": ".py",
   "mimetype": "text/x-python",
   "name": "python",
   "nbconvert_exporter": "python",
   "pygments_lexer": "ipython3",
   "version": "3.7.3"
  }
 },
 "nbformat": 4,
 "nbformat_minor": 2
}
